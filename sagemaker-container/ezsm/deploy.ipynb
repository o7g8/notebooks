{
 "cells": [
  {
   "cell_type": "markdown",
   "metadata": {},
   "source": [
    "<h1>Deployment with ezsmdeploy</h1>"
   ]
  },
  {
   "cell_type": "markdown",
   "metadata": {},
   "source": [
    "\n",
    "Jupyter install\n",
    "sudo /opt/conda/bin/conda install ipython jupyter \n",
    "/opt/conda/bin/jupyter notebook --ip=0.0.0.0 --port=8080 --no-browser\n",
    "\n",
    "Useful links:\n",
    "\n",
    "- https://pypi.org/project/ezsmdeploy/\n",
    "\n",
    "- https://github.com/aws-samples/easy-amazon-sagemaker-deployments/blob/master/notebooks/Using%20ezsmdeploy%20for%20tensorflow%20deployments.ipynb\n",
    "\n",
    "- https://aws.amazon.com/blogs/opensource/deploy-machine-learning-models-to-amazon-sagemaker-using-the-ezsmdeploy-python-package-and-a-few-lines-of-code/"
   ]
  },
  {
   "cell_type": "code",
   "execution_count": 13,
   "metadata": {},
   "outputs": [
    {
     "name": "stdout",
     "output_type": "stream",
     "text": [
      "Collecting package metadata (repodata.json): done\n",
      "Solving environment: failed\n",
      "\n",
      "PackagesNotFoundError: The following packages are missing from the target environment:\n",
      "  - ezsmdeploy\n",
      "\n",
      "\n",
      "--2021-07-20 15:51:48--  https://files.pythonhosted.org/packages/57/bb/5eef92c5afb64589293185d20580c35e55ab45336d6ed28013c62945b882/ezsmdeploy-1.0.8.tar.gz\n",
      "Resolving files.pythonhosted.org (files.pythonhosted.org)... 151.101.249.63, 2a04:4e42:3b::319\n",
      "Connecting to files.pythonhosted.org (files.pythonhosted.org)|151.101.249.63|:443... connected.\n",
      "HTTP request sent, awaiting response... 200 OK\n",
      "Length: 24959 (24K) [application/x-tar]\n",
      "Saving to: ‘ezsmdeploy-1.0.8.tar.gz’\n",
      "\n",
      "100%[======================================>] 24,959      --.-K/s   in 0s      \n",
      "\n",
      "2021-07-20 15:51:48 (105 MB/s) - ‘ezsmdeploy-1.0.8.tar.gz’ saved [24959/24959]\n",
      "\n",
      "blackscholes.py  ezsmdeploy-1.0.8.tar.gz  inference.py\ttest.py\n",
      "deploy.ipynb\t ezsmdeploy-1.0.9\t  __pycache__\n",
      "Dockerfile.test  ezsmdeploy-1.0.9.tar.gz  README.md\n",
      "Collecting package metadata (current_repodata.json): done\n",
      "Solving environment: failed with initial frozen solve. Retrying with flexible solve.\n",
      "Collecting package metadata (repodata.json): done\n",
      "Solving environment: failed with initial frozen solve. Retrying with flexible solve.\n",
      "\n",
      "PackagesNotFoundError: The following packages are not available from current channels:\n",
      "\n",
      "  - ./ezsmdeploy-1.0.9.tar.gz\n",
      "\n",
      "Current channels:\n",
      "\n",
      "  - https://repo.anaconda.com/pkgs/main/linux-64\n",
      "  - https://repo.anaconda.com/pkgs/main/noarch\n",
      "  - https://repo.anaconda.com/pkgs/r/linux-64\n",
      "  - https://repo.anaconda.com/pkgs/r/noarch\n",
      "\n",
      "To search for alternate channels that may provide the conda package you're\n",
      "looking for, navigate to\n",
      "\n",
      "    https://anaconda.org\n",
      "\n",
      "and use the search bar at the top of the page.\n",
      "\n",
      "\n"
     ]
    }
   ],
   "source": [
    "!/opt/conda/bin/conda uninstall -y ezsmdeploy\n",
    "!rm -rf ezsmdeploy-1.0*\n",
    "!wget https://files.pythonhosted.org/packages/57/bb/5eef92c5afb64589293185d20580c35e55ab45336d6ed28013c62945b882/ezsmdeploy-1.0.8.tar.gz\n",
    "!tar xf ezsmdeploy-1.0.8.tar.gz\n",
    "!sed -i '3s/1.0.8/1.0.9/' ezsmdeploy-1.0.8/PKG-INFO\n",
    "!sed -i '3s/1.0.8/1.0.9/' ezsmdeploy-1.0.8/ezsmdeploy.egg-info/PKG-INFO\n",
    "!sed -i '22s/1.0.8/1.0.9/' ezsmdeploy-1.0.8/setup.py\n",
    "!sed -i '22s/1.0.8/1.0.9/' ezsmdeploy-1.0.8/ezsmdeploy/__init__.py\n",
    "#!sed -i '359s/prefix/self.prefix/' ezsmdeploy-1.0.8/ezsmdeploy/__init__.py\n",
    "!sed -i '359s/prefix/\"\"/' ezsmdeploy-1.0.8/ezsmdeploy/__init__.py\n",
    "!mv ezsmdeploy-1.0.8 ezsmdeploy-1.0.9\n",
    "!tar czf ezsmdeploy-1.0.9.tar.gz  ezsmdeploy-1.0.9\n",
    "!ls\n",
    "!/opt/conda/bin/conda install ./ezsmdeploy-1.0.9.tar.gz "
   ]
  },
  {
   "cell_type": "markdown",
   "metadata": {},
   "source": [
    "Deploy on GPU"
   ]
  },
  {
   "cell_type": "code",
   "execution_count": 7,
   "metadata": {},
   "outputs": [
    {
     "ename": "ModuleNotFoundError",
     "evalue": "No module named 'ezsmdeploy'",
     "output_type": "error",
     "traceback": [
      "\u001b[0;31m---------------------------------------------------------------------------\u001b[0m",
      "\u001b[0;31mModuleNotFoundError\u001b[0m                       Traceback (most recent call last)",
      "\u001b[0;32m<ipython-input-7-5af907b63b22>\u001b[0m in \u001b[0;36m<module>\u001b[0;34m\u001b[0m\n\u001b[0;32m----> 1\u001b[0;31m \u001b[0;32mimport\u001b[0m \u001b[0mezsmdeploy\u001b[0m\u001b[0;34m\u001b[0m\u001b[0;34m\u001b[0m\u001b[0m\n\u001b[0m\u001b[1;32m      2\u001b[0m ezonsm = ezsmdeploy.Deploy(model = None,\n\u001b[1;32m      3\u001b[0m                   \u001b[0mscript\u001b[0m \u001b[0;34m=\u001b[0m \u001b[0;34m'inference.py'\u001b[0m\u001b[0;34m,\u001b[0m\u001b[0;34m\u001b[0m\u001b[0;34m\u001b[0m\u001b[0m\n\u001b[1;32m      4\u001b[0m                   \u001b[0mrequirements\u001b[0m \u001b[0;34m=\u001b[0m \u001b[0;34m[\u001b[0m\u001b[0;34m'numpy'\u001b[0m\u001b[0;34m,\u001b[0m\u001b[0;34m'scipy'\u001b[0m\u001b[0;34m,\u001b[0m\u001b[0;34m'tensorflow'\u001b[0m\u001b[0;34m]\u001b[0m\u001b[0;34m,\u001b[0m\u001b[0;34m\u001b[0m\u001b[0;34m\u001b[0m\u001b[0m\n\u001b[1;32m      5\u001b[0m                   \u001b[0mname\u001b[0m \u001b[0;34m=\u001b[0m \u001b[0;34m'sagemaker-serving-containers/diffdl-container-gpu'\u001b[0m\u001b[0;34m,\u001b[0m\u001b[0;34m\u001b[0m\u001b[0;34m\u001b[0m\u001b[0m\n",
      "\u001b[0;31mModuleNotFoundError\u001b[0m: No module named 'ezsmdeploy'"
     ]
    }
   ],
   "source": [
    "import ezsmdeploy\n",
    "ezonsm = ezsmdeploy.Deploy(model = None,\n",
    "                  script = 'inference.py',\n",
    "                  requirements = ['numpy','scipy','tensorflow'],\n",
    "                  name = 'diffdl-container-gpu',\n",
    "                  wait = True,\n",
    "                  image = 'tensorflow/tensorflow:latest-gpu',\n",
    "                  instance_type = 'ml.g4dn.xlarge',\n",
    "                  monitor = True) # turn on model monitoring"
   ]
  },
  {
   "cell_type": "code",
   "execution_count": 9,
   "metadata": {},
   "outputs": [
    {
     "name": "stdout",
     "output_type": "stream",
     "text": [
      "Python 2.7.18\r\n"
     ]
    }
   ],
   "source": [
    "!python --version"
   ]
  },
  {
   "cell_type": "code",
   "execution_count": null,
   "metadata": {},
   "outputs": [],
   "source": []
  }
 ],
 "metadata": {
  "instance_type": "ml.t3.medium",
  "interpreter": {
   "hash": "aee8b7b246df8f9039afb4144a1f6fd8d2ca17a180786b69acc140d282b71a49"
  },
  "kernelspec": {
   "display_name": "Python 3",
   "language": "python",
   "name": "python3"
  },
  "language_info": {
   "codemirror_mode": {
    "name": "ipython",
    "version": 3
   },
   "file_extension": ".py",
   "mimetype": "text/x-python",
   "name": "python",
   "nbconvert_exporter": "python",
   "pygments_lexer": "ipython3",
   "version": "3.8.5"
  }
 },
 "nbformat": 4,
 "nbformat_minor": 4
}
