{
 "cells": [
  {
   "cell_type": "markdown",
   "metadata": {},
   "source": [
    "<h1>Deployment with ezsmdeploy</h1>"
   ]
  },
  {
   "cell_type": "markdown",
   "metadata": {},
   "source": [
    "\n",
    "Jupyter install\n",
    "sudo /opt/conda/bin/conda install ipython jupyter \n",
    "/opt/conda/bin/jupyter notebook --ip=0.0.0.0 --port=8080 --no-browser\n",
    "\n",
    "Useful links:\n",
    "\n",
    "- https://pypi.org/project/ezsmdeploy/\n",
    "\n",
    "- https://github.com/aws-samples/easy-amazon-sagemaker-deployments/blob/master/notebooks/Using%20ezsmdeploy%20for%20tensorflow%20deployments.ipynb\n",
    "\n",
    "- https://aws.amazon.com/blogs/opensource/deploy-machine-learning-models-to-amazon-sagemaker-using-the-ezsmdeploy-python-package-and-a-few-lines-of-code/"
   ]
  },
  {
   "cell_type": "code",
   "execution_count": 2,
   "metadata": {},
   "outputs": [
    {
     "name": "stdout",
     "output_type": "stream",
     "text": [
      "Defaulting to user installation because normal site-packages is not writeable\n",
      "Requirement already satisfied: ezsmdeploy in /home/ec2-user/.local/lib/python3.7/site-packages (1.0.8)\n",
      "Requirement already satisfied: shortuuid==1.0.1 in /home/ec2-user/.local/lib/python3.7/site-packages (from ezsmdeploy) (1.0.1)\n",
      "Requirement already satisfied: yaspin==0.16.0 in /home/ec2-user/.local/lib/python3.7/site-packages (from ezsmdeploy) (0.16.0)\n",
      "Requirement already satisfied: sagemaker==2.16.1 in /home/ec2-user/.local/lib/python3.7/site-packages (from ezsmdeploy) (2.16.1)\n",
      "Requirement already satisfied: sagemaker-studio-image-build==0.5.0 in /home/ec2-user/.local/lib/python3.7/site-packages (from ezsmdeploy) (0.5.0)\n",
      "Requirement already satisfied: boto3>=1.14.12 in /home/ec2-user/.local/lib/python3.7/site-packages (from ezsmdeploy) (1.18.0)\n",
      "Requirement already satisfied: google-pasta in /home/ec2-user/.local/lib/python3.7/site-packages (from sagemaker==2.16.1->ezsmdeploy) (0.2.0)\n",
      "Requirement already satisfied: numpy>=1.9.0 in /home/ec2-user/.local/lib/python3.7/site-packages (from sagemaker==2.16.1->ezsmdeploy) (1.21.0)\n",
      "Requirement already satisfied: protobuf>=3.1 in /home/ec2-user/.local/lib/python3.7/site-packages (from sagemaker==2.16.1->ezsmdeploy) (3.17.3)\n",
      "Requirement already satisfied: protobuf3-to-dict>=0.1.5 in /home/ec2-user/.local/lib/python3.7/site-packages (from sagemaker==2.16.1->ezsmdeploy) (0.1.5)\n",
      "Requirement already satisfied: smdebug-rulesconfig==0.1.5 in /home/ec2-user/.local/lib/python3.7/site-packages (from sagemaker==2.16.1->ezsmdeploy) (0.1.5)\n",
      "Requirement already satisfied: importlib-metadata>=1.4.0 in /usr/local/lib/python3.7/site-packages (from sagemaker==2.16.1->ezsmdeploy) (4.6.1)\n",
      "Requirement already satisfied: packaging>=20.0 in /home/ec2-user/.local/lib/python3.7/site-packages (from sagemaker==2.16.1->ezsmdeploy) (21.0)\n",
      "Requirement already satisfied: botocore<1.22.0,>=1.21.0 in /home/ec2-user/.local/lib/python3.7/site-packages (from boto3>=1.14.12->ezsmdeploy) (1.21.0)\n",
      "Requirement already satisfied: s3transfer<0.6.0,>=0.5.0 in /home/ec2-user/.local/lib/python3.7/site-packages (from boto3>=1.14.12->ezsmdeploy) (0.5.0)\n",
      "Requirement already satisfied: jmespath<1.0.0,>=0.7.1 in /usr/local/lib/python3.7/site-packages (from boto3>=1.14.12->ezsmdeploy) (0.10.0)\n",
      "Requirement already satisfied: six in /usr/local/lib/python3.7/site-packages (from google-pasta->sagemaker==2.16.1->ezsmdeploy) (1.16.0)\n",
      "Requirement already satisfied: zipp>=0.5 in /usr/local/lib/python3.7/site-packages (from importlib-metadata>=1.4.0->sagemaker==2.16.1->ezsmdeploy) (3.5.0)\n",
      "Requirement already satisfied: typing-extensions>=3.6.4; python_version < \"3.8\" in /usr/local/lib/python3.7/site-packages (from importlib-metadata>=1.4.0->sagemaker==2.16.1->ezsmdeploy) (3.10.0.0)\n",
      "Requirement already satisfied: pyparsing>=2.0.2 in /home/ec2-user/.local/lib/python3.7/site-packages (from packaging>=20.0->sagemaker==2.16.1->ezsmdeploy) (2.4.7)\n",
      "Requirement already satisfied: python-dateutil<3.0.0,>=2.1 in /usr/local/lib/python3.7/site-packages (from botocore<1.22.0,>=1.21.0->boto3>=1.14.12->ezsmdeploy) (2.8.1)\n",
      "Requirement already satisfied: urllib3<1.27,>=1.25.4 in /usr/local/lib/python3.7/site-packages (from botocore<1.22.0,>=1.21.0->boto3>=1.14.12->ezsmdeploy) (1.26.6)\n"
     ]
    }
   ],
   "source": [
    "!pip3 install ezsmdeploy "
   ]
  },
  {
   "cell_type": "markdown",
   "metadata": {},
   "source": [
    "Deploy on GPU"
   ]
  },
  {
   "cell_type": "code",
   "execution_count": 1,
   "metadata": {},
   "outputs": [
    {
     "name": "stdout",
     "output_type": "stream",
     "text": [
      "785577973223\n",
      "us-east-1\n",
      "arn:aws:iam::785577973223:role/admin\n",
      "sagemaker-us-east-1-785577973223\n",
      "sagemaker-serving-containers/diffdl-container-gpu\n"
     ]
    }
   ],
   "source": [
    "ezonsm = ezsmdeploy.Deploy(model = None,\n",
    "                  script = 'inference.py',\n",
    "                  requirements = ['numpy','scipy','tensorflow'],\n",
    "                  name = 'sagemaker-serving-containers/diffdl-container-gpu',\n",
    "                  wait = True,\n",
    "                  image = 'tensorflow/tensorflow:latest-gpu',\n",
    "                  instance_type = 'ml.g4dn.xlarge',\n",
    "                  monitor = True) # turn on model monitoring"
   ]
  }
 ],
 "metadata": {
  "instance_type": "ml.t3.medium",
  "interpreter": {
   "hash": "aee8b7b246df8f9039afb4144a1f6fd8d2ca17a180786b69acc140d282b71a49"
  },
  "kernelspec": {
   "display_name": "Python 3",
   "language": "python",
   "name": "python3"
  },
  "language_info": {
   "codemirror_mode": {
    "name": "ipython",
    "version": 3
   },
   "file_extension": ".py",
   "mimetype": "text/x-python",
   "name": "python",
   "nbconvert_exporter": "python",
   "pygments_lexer": "ipython3",
   "version": "3.8.5"
  }
 },
 "nbformat": 4,
 "nbformat_minor": 4
}
