{
 "cells": [
  {
   "cell_type": "markdown",
   "metadata": {},
   "source": [
    "<h1>Deployment with ezsmdeploy</h1>"
   ]
  },
  {
   "cell_type": "markdown",
   "metadata": {},
   "source": [
    "\n",
    "Jupyter install\n",
    "sudo /opt/conda/bin/conda install ipython jupyter \n",
    "/opt/conda/bin/jupyter notebook --ip=0.0.0.0 --port=8080 --no-browser\n",
    "\n",
    "Useful links:\n",
    "\n",
    "- https://pypi.org/project/ezsmdeploy/\n",
    "\n",
    "- https://github.com/aws-samples/easy-amazon-sagemaker-deployments/blob/master/notebooks/Using%20ezsmdeploy%20for%20tensorflow%20deployments.ipynb\n",
    "\n",
    "- https://aws.amazon.com/blogs/opensource/deploy-machine-learning-models-to-amazon-sagemaker-using-the-ezsmdeploy-python-package-and-a-few-lines-of-code/"
   ]
  },
  {
   "cell_type": "code",
   "execution_count": 17,
   "metadata": {},
   "outputs": [
    {
     "name": "stdout",
     "output_type": "stream",
     "text": [
      "/opt/conda/lib/python3.7/site-packages/secretstorage/dhcrypto.py:16: CryptographyDeprecationWarning: int_from_bytes is deprecated, use int.from_bytes instead\n",
      "  from cryptography.utils import int_from_bytes\n",
      "/opt/conda/lib/python3.7/site-packages/secretstorage/util.py:25: CryptographyDeprecationWarning: int_from_bytes is deprecated, use int.from_bytes instead\n",
      "  from cryptography.utils import int_from_bytes\n",
      "Found existing installation: ezsmdeploy 1.0.9\n",
      "Uninstalling ezsmdeploy-1.0.9:\n",
      "  Successfully uninstalled ezsmdeploy-1.0.9\n",
      "\u001b[33mWARNING: Running pip as root will break packages and permissions. You should install packages reliably by using venv: https://pip.pypa.io/warnings/venv\u001b[0m\n",
      "--2021-07-20 15:41:29--  https://files.pythonhosted.org/packages/57/bb/5eef92c5afb64589293185d20580c35e55ab45336d6ed28013c62945b882/ezsmdeploy-1.0.8.tar.gz\n",
      "Resolving files.pythonhosted.org (files.pythonhosted.org)... 199.232.65.63, 2a04:4e42:2f::319\n",
      "Connecting to files.pythonhosted.org (files.pythonhosted.org)|199.232.65.63|:443... connected.\n",
      "HTTP request sent, awaiting response... 200 OK\n",
      "Length: 24959 (24K) [application/x-tar]\n",
      "Saving to: ‘ezsmdeploy-1.0.8.tar.gz.3’\n",
      "\n",
      "ezsmdeploy-1.0.8.ta 100%[===================>]  24.37K  --.-KB/s    in 0s      \n",
      "\n",
      "2021-07-20 15:41:29 (97.0 MB/s) - ‘ezsmdeploy-1.0.8.tar.gz.3’ saved [24959/24959]\n",
      "\n",
      "tar: ezsmdeploy-1.0.8/setup.cfg: Cannot change ownership to uid 500, gid 500: Operation not permitted\n",
      "tar: ezsmdeploy-1.0.8/setup.py: Cannot change ownership to uid 500, gid 500: Operation not permitted\n",
      "tar: ezsmdeploy-1.0.8/README.rst: Cannot change ownership to uid 500, gid 500: Operation not permitted\n",
      "tar: ezsmdeploy-1.0.8/ezsmdeploy/__init__.py: Cannot change ownership to uid 500, gid 500: Operation not permitted\n",
      "tar: ezsmdeploy-1.0.8/ezsmdeploy/data/dockerd-entrypoint.py: Cannot change ownership to uid 500, gid 500: Operation not permitted\n",
      "tar: ezsmdeploy-1.0.8/ezsmdeploy/data/Dockerfile_flask: Cannot change ownership to uid 500, gid 500: Operation not permitted\n",
      "tar: ezsmdeploy-1.0.8/ezsmdeploy/data/model_handler.py: Cannot change ownership to uid 500, gid 500: Operation not permitted\n",
      "tar: ezsmdeploy-1.0.8/ezsmdeploy/data/cost.csv: Cannot change ownership to uid 500, gid 500: Operation not permitted\n",
      "tar: ezsmdeploy-1.0.8/ezsmdeploy/data/nginx.conf: Cannot change ownership to uid 500, gid 500: Operation not permitted\n",
      "tar: ezsmdeploy-1.0.8/ezsmdeploy/data/instancetypes.csv: Cannot change ownership to uid 500, gid 500: Operation not permitted\n",
      "tar: ezsmdeploy-1.0.8/ezsmdeploy/data/train: Cannot change ownership to uid 500, gid 500: Operation not permitted\n",
      "tar: ezsmdeploy-1.0.8/ezsmdeploy/data/smlocust.py: Cannot change ownership to uid 500, gid 500: Operation not permitted\n",
      "tar: ezsmdeploy-1.0.8/ezsmdeploy/data/Dockerfile: Cannot change ownership to uid 500, gid 500: Operation not permitted\n",
      "tar: ezsmdeploy-1.0.8/ezsmdeploy/data/build-docker.sh: Cannot change ownership to uid 500, gid 500: Operation not permitted\n",
      "tar: ezsmdeploy-1.0.8/ezsmdeploy/data/wsgi.py: Cannot change ownership to uid 500, gid 500: Operation not permitted\n",
      "tar: ezsmdeploy-1.0.8/ezsmdeploy/data/serve: Cannot change ownership to uid 500, gid 500: Operation not permitted\n",
      "tar: ezsmdeploy-1.0.8/ezsmdeploy/data/predictor.py: Cannot change ownership to uid 500, gid 500: Operation not permitted\n",
      "tar: ezsmdeploy-1.0.8/ezsmdeploy/data: Cannot change ownership to uid 500, gid 500: Operation not permitted\n",
      "tar: ezsmdeploy-1.0.8/ezsmdeploy: Cannot change ownership to uid 500, gid 500: Operation not permitted\n",
      "tar: ezsmdeploy-1.0.8/PKG-INFO: Cannot change ownership to uid 500, gid 500: Operation not permitted\n",
      "tar: ezsmdeploy-1.0.8/ezsmdeploy.egg-info/requires.txt: Cannot change ownership to uid 500, gid 500: Operation not permitted\n",
      "tar: ezsmdeploy-1.0.8/ezsmdeploy.egg-info/dependency_links.txt: Cannot change ownership to uid 500, gid 500: Operation not permitted\n",
      "tar: ezsmdeploy-1.0.8/ezsmdeploy.egg-info/top_level.txt: Cannot change ownership to uid 500, gid 500: Operation not permitted\n",
      "tar: ezsmdeploy-1.0.8/ezsmdeploy.egg-info/PKG-INFO: Cannot change ownership to uid 500, gid 500: Operation not permitted\n",
      "tar: ezsmdeploy-1.0.8/ezsmdeploy.egg-info/SOURCES.txt: Cannot change ownership to uid 500, gid 500: Operation not permitted\n",
      "tar: ezsmdeploy-1.0.8/ezsmdeploy.egg-info/not-zip-safe: Cannot change ownership to uid 500, gid 500: Operation not permitted\n",
      "tar: ezsmdeploy-1.0.8/ezsmdeploy.egg-info: Cannot change ownership to uid 500, gid 500: Operation not permitted\n",
      "tar: ezsmdeploy-1.0.8: Cannot change ownership to uid 500, gid 500: Operation not permitted\n",
      "tar: Exiting with failure status due to previous errors\n",
      "mv: cannot move 'ezsmdeploy-1.0.8' to 'ezsmdeploy-1.0.9/ezsmdeploy-1.0.8': File exists\n",
      "/opt/conda/lib/python3.7/site-packages/secretstorage/dhcrypto.py:16: CryptographyDeprecationWarning: int_from_bytes is deprecated, use int.from_bytes instead\n",
      "  from cryptography.utils import int_from_bytes\n",
      "/opt/conda/lib/python3.7/site-packages/secretstorage/util.py:25: CryptographyDeprecationWarning: int_from_bytes is deprecated, use int.from_bytes instead\n",
      "  from cryptography.utils import int_from_bytes\n",
      "Processing ./ezsmdeploy-1.0.9.tar.gz\n",
      "Requirement already satisfied: sagemaker==2.16.1 in /opt/conda/lib/python3.7/site-packages (from ezsmdeploy==1.0.9) (2.16.1)\n",
      "Requirement already satisfied: yaspin==0.16.0 in /opt/conda/lib/python3.7/site-packages (from ezsmdeploy==1.0.9) (0.16.0)\n",
      "Requirement already satisfied: shortuuid==1.0.1 in /opt/conda/lib/python3.7/site-packages (from ezsmdeploy==1.0.9) (1.0.1)\n",
      "Requirement already satisfied: sagemaker-studio-image-build==0.5.0 in /opt/conda/lib/python3.7/site-packages (from ezsmdeploy==1.0.9) (0.5.0)\n",
      "Requirement already satisfied: boto3>=1.14.12 in /opt/conda/lib/python3.7/site-packages (from ezsmdeploy==1.0.9) (1.17.74)\n",
      "Requirement already satisfied: protobuf>=3.1 in /opt/conda/lib/python3.7/site-packages (from sagemaker==2.16.1->ezsmdeploy==1.0.9) (3.17.0)\n",
      "Requirement already satisfied: google-pasta in /opt/conda/lib/python3.7/site-packages (from sagemaker==2.16.1->ezsmdeploy==1.0.9) (0.2.0)\n",
      "Requirement already satisfied: numpy>=1.9.0 in /opt/conda/lib/python3.7/site-packages (from sagemaker==2.16.1->ezsmdeploy==1.0.9) (1.20.3)\n",
      "Requirement already satisfied: protobuf3-to-dict>=0.1.5 in /opt/conda/lib/python3.7/site-packages (from sagemaker==2.16.1->ezsmdeploy==1.0.9) (0.1.5)\n",
      "Requirement already satisfied: packaging>=20.0 in /opt/conda/lib/python3.7/site-packages (from sagemaker==2.16.1->ezsmdeploy==1.0.9) (20.1)\n",
      "Requirement already satisfied: importlib-metadata>=1.4.0 in /opt/conda/lib/python3.7/site-packages (from sagemaker==2.16.1->ezsmdeploy==1.0.9) (1.5.0)\n",
      "Requirement already satisfied: smdebug-rulesconfig==0.1.5 in /opt/conda/lib/python3.7/site-packages (from sagemaker==2.16.1->ezsmdeploy==1.0.9) (0.1.5)\n",
      "Requirement already satisfied: botocore<1.21.0,>=1.20.74 in /opt/conda/lib/python3.7/site-packages (from boto3>=1.14.12->ezsmdeploy==1.0.9) (1.20.74)\n",
      "Requirement already satisfied: s3transfer<0.5.0,>=0.4.0 in /opt/conda/lib/python3.7/site-packages (from boto3>=1.14.12->ezsmdeploy==1.0.9) (0.4.2)\n",
      "Requirement already satisfied: jmespath<1.0.0,>=0.7.1 in /opt/conda/lib/python3.7/site-packages (from boto3>=1.14.12->ezsmdeploy==1.0.9) (0.10.0)\n",
      "Requirement already satisfied: urllib3<1.27,>=1.25.4 in /opt/conda/lib/python3.7/site-packages (from botocore<1.21.0,>=1.20.74->boto3>=1.14.12->ezsmdeploy==1.0.9) (1.26.4)\n",
      "Requirement already satisfied: python-dateutil<3.0.0,>=2.1 in /opt/conda/lib/python3.7/site-packages (from botocore<1.21.0,>=1.20.74->boto3>=1.14.12->ezsmdeploy==1.0.9) (2.8.1)\n",
      "Requirement already satisfied: zipp>=0.5 in /opt/conda/lib/python3.7/site-packages (from importlib-metadata>=1.4.0->sagemaker==2.16.1->ezsmdeploy==1.0.9) (2.2.0)\n",
      "Requirement already satisfied: pyparsing>=2.0.2 in /opt/conda/lib/python3.7/site-packages (from packaging>=20.0->sagemaker==2.16.1->ezsmdeploy==1.0.9) (2.4.6)\n",
      "Requirement already satisfied: six in /opt/conda/lib/python3.7/site-packages (from packaging>=20.0->sagemaker==2.16.1->ezsmdeploy==1.0.9) (1.14.0)\n",
      "Building wheels for collected packages: ezsmdeploy\n",
      "  Building wheel for ezsmdeploy (setup.py) ... \u001b[?25ldone\n",
      "\u001b[?25h  Created wheel for ezsmdeploy: filename=ezsmdeploy-1.0.9-py3-none-any.whl size=23396 sha256=7c81e5a985fc0f103dea2ac1d0942500c3fa7cb627e7bdddc9c77592d6114c0c\n",
      "  Stored in directory: /root/.cache/pip/wheels/7a/ee/54/4dbb97166aa107865a56c9318c345b99325710e48c4bdada48\n",
      "Successfully built ezsmdeploy\n",
      "Installing collected packages: ezsmdeploy\n",
      "Successfully installed ezsmdeploy-1.0.9\n",
      "\u001b[33mWARNING: Running pip as root will break packages and permissions. You should install packages reliably by using venv: https://pip.pypa.io/warnings/venv\u001b[0m\n",
      "\u001b[33mWARNING: You are using pip version 21.1.1; however, version 21.1.3 is available.\n",
      "You should consider upgrading via the '/opt/conda/bin/python -m pip install --upgrade pip' command.\u001b[0m\n"
     ]
    }
   ],
   "source": [
    "!pip3 uninstall -y ezsmdeploy\n",
    "!wget https://files.pythonhosted.org/packages/57/bb/5eef92c5afb64589293185d20580c35e55ab45336d6ed28013c62945b882/ezsmdeploy-1.0.8.tar.gz\n",
    "!tar xf ezsmdeploy-1.0.8.tar.gz\n",
    "!sed -i '3s/1.0.8/1.0.9/' ezsmdeploy-1.0.8/PKG-INFO\n",
    "!sed -i '3s/1.0.8/1.0.9/' ezsmdeploy-1.0.8/ezsmdeploy.egg-info/PKG-INFO\n",
    "!sed -i '22s/1.0.8/1.0.9/' ezsmdeploy-1.0.8/setup.py\n",
    "!sed -i '22s/1.0.8/1.0.9/' ezsmdeploy-1.0.8/ezsmdeploy/__init__.py\n",
    "#!sed -i '359s/prefix/self.prefix/' ezsmdeploy-1.0.8/ezsmdeploy/__init__.py\n",
    "!sed -i '359s/prefix/\"\"/' ezsmdeploy-1.0.8/ezsmdeploy/__init__.py\n",
    "!mv ezsmdeploy-1.0.8 ezsmdeploy-1.0.9\n",
    "!tar czf ezsmdeploy-1.0.9.tar.gz  ezsmdeploy-1.0.9\n",
    "!pip install ./ezsmdeploy-1.0.9.tar.gz "
   ]
  },
  {
   "cell_type": "markdown",
   "metadata": {},
   "source": [
    "Deploy on GPU"
   ]
  },
  {
   "cell_type": "code",
   "execution_count": 18,
   "metadata": {},
   "outputs": [
    {
     "name": "stdout",
     "output_type": "stream",
     "text": [
      "\u001b[K0:00:00.073626 | No model was passed. Assuming you are downloading a model in the script or in the container\n",
      "\u001b[K0:00:00.160230 | uploaded model tarball(s) ; check returned modelpath\n",
      "\u001b[K0:00:00.178515 | added requirements file\n",
      "\u001b[K0:00:00.208935 | added source file\n",
      "\u001b[K0:00:00.225619 | added Dockerfile\n",
      "\u001b[K0:00:00.334754 | added model_handler and docker utils\n",
      "\u001b[K0:00:00.511682 | created model(s). Now deploying on ml.g4dn.xlarge\n",
      "\u001b[K"
     ]
    },
    {
     "ename": "NameError",
     "evalue": "name 'prefix' is not defined",
     "output_type": "error",
     "traceback": [
      "\u001b[0;31m---------------------------------------------------------------------------\u001b[0m",
      "\u001b[0;31mNameError\u001b[0m                                 Traceback (most recent call last)",
      "\u001b[0;32m<ipython-input-18-5af907b63b22>\u001b[0m in \u001b[0;36m<module>\u001b[0;34m\u001b[0m\n\u001b[1;32m      7\u001b[0m                   \u001b[0mimage\u001b[0m \u001b[0;34m=\u001b[0m \u001b[0;34m'tensorflow/tensorflow:latest-gpu'\u001b[0m\u001b[0;34m,\u001b[0m\u001b[0;34m\u001b[0m\u001b[0;34m\u001b[0m\u001b[0m\n\u001b[1;32m      8\u001b[0m                   \u001b[0minstance_type\u001b[0m \u001b[0;34m=\u001b[0m \u001b[0;34m'ml.g4dn.xlarge'\u001b[0m\u001b[0;34m,\u001b[0m\u001b[0;34m\u001b[0m\u001b[0;34m\u001b[0m\u001b[0m\n\u001b[0;32m----> 9\u001b[0;31m                   monitor = True) # turn on model monitoring\n\u001b[0m",
      "\u001b[0;32m/opt/conda/lib/python3.7/site-packages/ezsmdeploy/__init__.py\u001b[0m in \u001b[0;36m__init__\u001b[0;34m(self, model, script, framework, requirements, name, autoscale, autoscaletarget, wait, bucket, prefix, session, image, dockerfilepath, instance_type, instance_count, budget, ei, monitor)\u001b[0m\n\u001b[1;32m    207\u001b[0m         \u001b[0mself\u001b[0m\u001b[0;34m.\u001b[0m\u001b[0mwait\u001b[0m \u001b[0;34m=\u001b[0m \u001b[0mwait\u001b[0m\u001b[0;34m\u001b[0m\u001b[0;34m\u001b[0m\u001b[0m\n\u001b[1;32m    208\u001b[0m \u001b[0;34m\u001b[0m\u001b[0m\n\u001b[0;32m--> 209\u001b[0;31m         \u001b[0mself\u001b[0m\u001b[0;34m.\u001b[0m\u001b[0mdeploy\u001b[0m\u001b[0;34m(\u001b[0m\u001b[0;34m)\u001b[0m\u001b[0;34m\u001b[0m\u001b[0;34m\u001b[0m\u001b[0m\n\u001b[0m\u001b[1;32m    210\u001b[0m \u001b[0;34m\u001b[0m\u001b[0m\n\u001b[1;32m    211\u001b[0m     \u001b[0;32mdef\u001b[0m \u001b[0mprocess_instance_type\u001b[0m\u001b[0;34m(\u001b[0m\u001b[0mself\u001b[0m\u001b[0;34m)\u001b[0m\u001b[0;34m:\u001b[0m\u001b[0;34m\u001b[0m\u001b[0;34m\u001b[0m\u001b[0m\n",
      "\u001b[0;32m/opt/conda/lib/python3.7/site-packages/ezsmdeploy/__init__.py\u001b[0m in \u001b[0;36mdeploy\u001b[0;34m(self)\u001b[0m\n\u001b[1;32m    776\u001b[0m \u001b[0;34m\u001b[0m\u001b[0m\n\u001b[1;32m    777\u001b[0m             \u001b[0;31m# deploy model\u001b[0m\u001b[0;34m\u001b[0m\u001b[0;34m\u001b[0m\u001b[0;34m\u001b[0m\u001b[0m\n\u001b[0;32m--> 778\u001b[0;31m             \u001b[0mself\u001b[0m\u001b[0;34m.\u001b[0m\u001b[0mdeploy_model\u001b[0m\u001b[0;34m(\u001b[0m\u001b[0;34m)\u001b[0m\u001b[0;34m\u001b[0m\u001b[0;34m\u001b[0m\u001b[0m\n\u001b[0m\u001b[1;32m    779\u001b[0m             \u001b[0msp\u001b[0m\u001b[0;34m.\u001b[0m\u001b[0mhide\u001b[0m\u001b[0;34m(\u001b[0m\u001b[0;34m)\u001b[0m\u001b[0;34m\u001b[0m\u001b[0;34m\u001b[0m\u001b[0m\n\u001b[1;32m    780\u001b[0m             \u001b[0msp\u001b[0m\u001b[0;34m.\u001b[0m\u001b[0mwrite\u001b[0m\u001b[0;34m(\u001b[0m\u001b[0mstr\u001b[0m\u001b[0;34m(\u001b[0m\u001b[0mdatetime\u001b[0m\u001b[0;34m.\u001b[0m\u001b[0mdatetime\u001b[0m\u001b[0;34m.\u001b[0m\u001b[0mnow\u001b[0m\u001b[0;34m(\u001b[0m\u001b[0;34m)\u001b[0m \u001b[0;34m-\u001b[0m \u001b[0mstart\u001b[0m\u001b[0;34m)\u001b[0m \u001b[0;34m+\u001b[0m \u001b[0;34m\" | deployed model\"\u001b[0m\u001b[0;34m)\u001b[0m\u001b[0;34m\u001b[0m\u001b[0;34m\u001b[0m\u001b[0m\n",
      "\u001b[0;32m/opt/conda/lib/python3.7/site-packages/ezsmdeploy/__init__.py\u001b[0m in \u001b[0;36mdeploy_model\u001b[0;34m(self)\u001b[0m\n\u001b[1;32m    357\u001b[0m \u001b[0;34m\u001b[0m\u001b[0m\n\u001b[1;32m    358\u001b[0m \u001b[0;34m\u001b[0m\u001b[0m\n\u001b[0;32m--> 359\u001b[0;31m             \u001b[0;32mif\u001b[0m \u001b[0mself\u001b[0m\u001b[0;34m.\u001b[0m\u001b[0mprefix\u001b[0m \u001b[0;34m==\u001b[0m \u001b[0;34m''\u001b[0m\u001b[0;34m:\u001b[0m\u001b[0;34m\u001b[0m\u001b[0;34m\u001b[0m\u001b[0m\n\u001b[0m\u001b[1;32m    360\u001b[0m                 tmps3uri = \"s3://{}/ezsmdeploy/model-{}/datacapture\".format(\n\u001b[1;32m    361\u001b[0m                     \u001b[0mself\u001b[0m\u001b[0;34m.\u001b[0m\u001b[0mbucket\u001b[0m\u001b[0;34m,\u001b[0m \u001b[0mself\u001b[0m\u001b[0;34m.\u001b[0m\u001b[0mname\u001b[0m\u001b[0;34m\u001b[0m\u001b[0;34m\u001b[0m\u001b[0m\n",
      "\u001b[0;31mNameError\u001b[0m: name 'prefix' is not defined"
     ]
    }
   ],
   "source": [
    "import ezsmdeploy\n",
    "ezonsm = ezsmdeploy.Deploy(model = None,\n",
    "                  script = 'inference.py',\n",
    "                  requirements = ['numpy','scipy','tensorflow'],\n",
    "                  name = 'sagemaker-serving-containers/diffdl-container-gpu',\n",
    "                  wait = True,\n",
    "                  image = 'tensorflow/tensorflow:latest-gpu',\n",
    "                  instance_type = 'ml.g4dn.xlarge',\n",
    "                  monitor = True) # turn on model monitoring"
   ]
  },
  {
   "cell_type": "code",
   "execution_count": null,
   "metadata": {},
   "outputs": [],
   "source": []
  }
 ],
 "metadata": {
  "instance_type": "ml.t3.medium",
  "interpreter": {
   "hash": "aee8b7b246df8f9039afb4144a1f6fd8d2ca17a180786b69acc140d282b71a49"
  },
  "kernelspec": {
   "display_name": "Python 3 (Data Science)",
   "language": "python",
   "name": "python3__SAGEMAKER_INTERNAL__arn:aws:sagemaker:us-east-1:081325390199:image/datascience-1.0"
  },
  "language_info": {
   "codemirror_mode": {
    "name": "ipython",
    "version": 3
   },
   "file_extension": ".py",
   "mimetype": "text/x-python",
   "name": "python",
   "nbconvert_exporter": "python",
   "pygments_lexer": "ipython3",
   "version": "3.7.10"
  }
 },
 "nbformat": 4,
 "nbformat_minor": 4
}
