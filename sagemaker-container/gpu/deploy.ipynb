{
 "cells": [
  {
   "cell_type": "markdown",
   "metadata": {},
   "source": [
    "<h1>Deployment of a GPU-based SageMaker inference endpoint </h1>"
   ]
  },
  {
   "cell_type": "markdown",
   "metadata": {},
   "source": []
  },
  {
   "cell_type": "markdown",
   "metadata": {},
   "source": [
    "First let us build the container:"
   ]
  },
  {
   "cell_type": "code",
   "execution_count": 1,
   "metadata": {},
   "outputs": [
    {
     "name": "stdout",
     "output_type": "stream",
     "text": [
      "sagemaker-serving-containers/diffdl-container-gpu\n"
     ]
    }
   ],
   "source": [
    "ecr_namespace = 'sagemaker-serving-containers/'\n",
    "prefix = 'diffdl-container-gpu'\n",
    "container_name = ecr_namespace + prefix\n",
    "print(container_name)"
   ]
  },
  {
   "cell_type": "code",
   "execution_count": 6,
   "metadata": {},
   "outputs": [
    {
     "name": "stdout",
     "output_type": "stream",
     "text": [
      "~/environment/notebooks/sagemaker-container/gpu/container ~/environment/notebooks/sagemaker-container/gpu\n",
      "WARNING! Using --password via the CLI is insecure. Use --password-stdin.\n",
      "WARNING! Your password will be stored unencrypted in /home/ec2-user/.docker/config.json.\n",
      "Configure a credential helper to remove this warning. See\n",
      "https://docs.docker.com/engine/reference/commandline/login/#credentials-store\n",
      "\n",
      "Login Succeeded\n",
      "Sending build context to Docker daemon  74.24kB\n",
      "Step 1/10 : FROM tensorflow/tensorflow:latest-gpu\n",
      " ---> 8b9d78381e5d\n",
      "Step 2/10 : RUN apt-get update &&     apt-get -y install         apt-utils         build-essential         libatlas-base-dev          git         wget         curl         nginx         ca-certificates\n",
      " ---> Using cache\n",
      " ---> f2800fe1746d\n",
      "Step 3/10 : RUN apt-get clean\n",
      " ---> Using cache\n",
      " ---> 39039f27d655\n",
      "Step 4/10 : RUN pip --no-cache-dir install -U pip\n",
      " ---> Using cache\n",
      " ---> 7350cdf5fa68\n",
      "Step 5/10 : RUN pip --no-cache-dir install flask gevent gunicorn tensorflow numpy scipy\n",
      " ---> Using cache\n",
      " ---> 84045bb03397\n",
      "Step 6/10 : ENV PYTHONDONTWRITEBYTECODE=1 PYTHONUNBUFFERED=1 PYTHONIOENCODING=UTF-8 LANG=C.UTF-8 LC_ALL=C.UTF-8\n",
      " ---> Using cache\n",
      " ---> aee5ea76e0d3\n",
      "Step 7/10 : ENV PATH=\"/opt/program:${PATH}\"\n",
      " ---> Using cache\n",
      " ---> 1065bc8f34f3\n",
      "Step 8/10 : RUN mkdir -p /opt/program\n",
      " ---> Using cache\n",
      " ---> 0d29453f029e\n",
      "Step 9/10 : COPY decision_trees /opt/program\n",
      " ---> Using cache\n",
      " ---> 523cd591aced\n",
      "Step 10/10 : WORKDIR /opt/program\n",
      " ---> Using cache\n",
      " ---> e017110823db\n",
      "Successfully built e017110823db\n",
      "Successfully tagged sagemaker-serving-containers/diffdl-container-gpu:latest\n",
      "The push refers to repository [785577973223.dkr.ecr.us-east-1.amazonaws.com/sagemaker-serving-containers/diffdl-container-gpu]\n",
      "\n",
      "\u001b[1B3630aab4: Preparing \n",
      "\u001b[1B59c326f2: Preparing \n",
      "\u001b[1Bb0ba5534: Preparing \n",
      "\u001b[1Ba588b665: Preparing \n",
      "\u001b[1B81d9d754: Preparing \n",
      "\u001b[1B0d7c6337: Preparing \n",
      "\u001b[1Bac5aed31: Preparing \n",
      "\u001b[1B968f8782: Preparing \n",
      "\u001b[1B3182417e: Preparing \n",
      "\u001b[1B754e7e9d: Preparing \n",
      "\u001b[1B1dbc2540: Preparing \n",
      "\u001b[1B2da56dca: Preparing \n",
      "\u001b[1B4f8ace47: Preparing \n",
      "\u001b[1B226ba457: Preparing \n",
      "\u001b[1B520b6c94: Preparing \n",
      "\u001b[1Be4bf63c6: Preparing \n",
      "\u001b[1B5c215047: Preparing \n",
      "\u001b[1B52e3a18b: Preparing \n",
      "\u001b[1Baa2fa9fe: Preparing \n",
      "\u001b[1B325cc380: Preparing \n",
      "\u001b[1Bdd81f9fa: Preparing \n",
      "\u001b[1B09cad0ba: Layer already exists \u001b[17A\u001b[2K\u001b[12A\u001b[2K\u001b[7A\u001b[2Klatest: digest: sha256:b0624383ac817a7cddc9a4f71b7cf7dae6b4f9ffabdea61c22b9fa9661fb4a46 size: 4933\n",
      "~/environment/notebooks/sagemaker-container/gpu\n"
     ]
    }
   ],
   "source": [
    "!pushd container && chmod +x ./build_and_push.sh && ./build_and_push.sh $container_name && popd"
   ]
  },
  {
   "cell_type": "markdown",
   "metadata": {},
   "source": [
    "Smoke test the start of the `serve` endpoint locally:"
   ]
  },
  {
   "cell_type": "code",
   "execution_count": 2,
   "metadata": {},
   "outputs": [
    {
     "data": {
      "text/markdown": [
       "`chmod +x ./container/local_test/serve_local.sh && ./container/local_test/serve_local.sh sagemaker-serving-containers/diffdl-container-gpu`"
      ],
      "text/plain": [
       "<IPython.core.display.Markdown object>"
      ]
     },
     "execution_count": 2,
     "metadata": {},
     "output_type": "execute_result"
    }
   ],
   "source": [
    "from IPython.display import Markdown as md\n",
    "md(f\"`chmod +x ./container/local_test/serve_local.sh && ./container/local_test/serve_local.sh {container_name}`\")"
   ]
  },
  {
   "cell_type": "markdown",
   "metadata": {},
   "source": [
    "Deploy the endpoint"
   ]
  },
  {
   "cell_type": "code",
   "execution_count": 3,
   "metadata": {},
   "outputs": [
    {
     "name": "stdout",
     "output_type": "stream",
     "text": [
      "785577973223\n",
      "us-east-1\n",
      "785577973223.dkr.ecr.us-east-1.amazonaws.com/sagemaker-serving-containers/diffdl-container-gpu:latest\n"
     ]
    }
   ],
   "source": [
    "import boto3\n",
    "\n",
    "session = boto3.session.Session()\n",
    "account_id = boto3.client('sts').get_caller_identity().get('Account')\n",
    "region = session.region_name\n",
    "container_image_uri = f\"{account_id}.dkr.ecr.{region}.amazonaws.com/{container_name}:latest\"\n",
    "\n",
    "print(account_id)\n",
    "print(region)\n",
    "print(container_image_uri)"
   ]
  },
  {
   "cell_type": "code",
   "execution_count": 4,
   "metadata": {},
   "outputs": [],
   "source": [
    "import sagemaker\n",
    "from sagemaker import get_execution_role\n",
    "\n",
    "role = get_execution_role()\n",
    "sagemaker_session = sagemaker.session.Session()"
   ]
  },
  {
   "cell_type": "code",
   "execution_count": 5,
   "metadata": {},
   "outputs": [],
   "source": [
    "from time import gmtime, strftime\n",
    "from sagemaker.multidatamodel import MultiDataModel\n",
    "from sagemaker.model import Model\n",
    "\n",
    "model_name = 'diffdl-container-gpu-' + strftime(\"%Y-%m-%d-%H-%M-%S\", gmtime())\n",
    "\n",
    "model = Model(name = model_name,\n",
    "              model_data = '',\n",
    "              image_uri = container_image_uri,\n",
    "              role=role,\n",
    "              env = {\n",
    "                  'SAGEMAKER_PROGRAM': 'predictor'\n",
    "              },\n",
    "              sagemaker_session=sagemaker_session)"
   ]
  },
  {
   "cell_type": "code",
   "execution_count": 8,
   "metadata": {},
   "outputs": [
    {
     "name": "stdout",
     "output_type": "stream",
     "text": [
      "diffdl-container-gpu-2021-07-21-15-36-48\n",
      "-----------------!"
     ]
    }
   ],
   "source": [
    "endpoint_name = 'diffdl-container-gpu-' + strftime(\"%Y-%m-%d-%H-%M-%S\", gmtime())\n",
    "print(endpoint_name)\n",
    "\n",
    "# ml.m5.xlarge = 4vCPU/16GB; ml.g4dn.xlarge = 4vCPU/16GB.\n",
    "instance = 'ml.g4dn.xlarge'\n",
    "pred = model.deploy(initial_instance_count=1,\n",
    "                          instance_type=instance,\n",
    "                          endpoint_name=endpoint_name)"
   ]
  },
  {
   "cell_type": "markdown",
   "metadata": {},
   "source": [
    "Test the inference endpoint:"
   ]
  },
  {
   "cell_type": "code",
   "execution_count": 16,
   "metadata": {},
   "outputs": [
    {
     "name": "stdout",
     "output_type": "stream",
     "text": [
      "using seed 9771\n",
      "simulating training, valid and test sets\n",
      "done\n",
      "Sent payload size: 48576\n",
      "Received payload size: 4278\n",
      "[0.004021836546851468, 0.0036974069904979617, 0.003369250334126092, 0.003037742510014374, 0.00270332389597476, 0.0023665637608861617, 0.0020280958191608855, 0.0016886826762782248, 0.0013492158287843614, 0.0010107156642923665, 0.0006744066479379696, 0.0003416206540793054, 1.3979561975116517e-05, -0.0003067551171267585, -0.0006185963126113248, -0.0009191917625073348, -0.0012059743863987032, -0.001476087098968737, -0.0017262431780110526, -0.0019528551554964385, -0.0021519166674282275, -0.0023189809719977444, -0.0024491394677399053, -0.0025369787298441526, -0.0025765912510767874, -0.002561489514402965, -0.0024846382157534264, -0.0023383898184910767, -0.002114463071566458, -0.0018040181959735058, -0.0013975709573715162, -0.0008850034070074786, -0.0002556175863272503, 0.0005018107684132272, 0.001399032226147956, 0.0024482484745450978, 0.00366199416986239, 0.005053061750491389, 0.006634404768657287, 0.008418976776585305, 0.01041963465820045, 0.012648956033449427, 0.015119056662622463, 0.017841568964508878, 0.0208273627524187, 0.024086470047727015, 0.027628042116184956, 0.0314601453903971, 0.03558979369258822, 0.04002286230722529, 0.04476410946286203, 0.04981712262752763, 0.05518439369518249, 0.060867340467562724, 0.06686632813602458, 0.07318079011691973, 0.0798090964752978, 0.08674883855934575, 0.09399662559417296, 0.10154826794879697, 0.1093987502838379, 0.11754221141228918, 0.12597202015728098, 0.13468081898707676, 0.1436604072075439, 0.1529019853181347, 0.16239613353004195, 0.17213271509789874, 0.18210112873145104, 0.192290289798944, 0.20268901700032252, 0.21328553828480812, 0.2240681890108448, 0.2350252186094986, 0.24614485502999098, 0.25741573437658877, 0.2688266538673924, 0.2803666577617139, 0.2920255421834222, 0.30379342548405375, 0.315660920097568, 0.3276195192135484, 0.33966121010400163, 0.3517784956052019, 0.3639647807908921, 0.37621392185354896, 0.38852041944098414, 0.40087956902925503, 0.413286966840242, 0.4257386172508708, 0.43823149132106853, 0.4507627749292078, 0.4633295895081272, 0.4759301950284236, 0.4885625936785595, 0.501225496547866, 0.5139173569435398, 0.5266371437370458, 0.5393842554367383, 0.552157660914082]\n",
      "[-0.024557103415187877, -0.02485298529352671, -0.025123344339222364, -0.025362407905258122, -0.025563650292923124, -0.02571967361229058, -0.025822234757203855, -0.02586205882828952, -0.025828776191323254, -0.025710825816863105, -0.02549535412405178, -0.025168104832756895, -0.02471330656779573, -0.024113544727751457, -0.023349669320437413, -0.022400696054614904, -0.021243601779682254, -0.01985336045232287, -0.018202739700152053, -0.016262279466519702, -0.014000169499115294, -0.011382344886376839, -0.008372351182560588, -0.0049314849024600935, -0.0010188983304666227, 0.003408295108391545, 0.008394644884580913, 0.013986177349054742, 0.020229728945316383, 0.027172575584350406, 0.03486169870021023, 0.04334275120888586, 0.052659475298188076, 0.06285233344720595, 0.07395737772480786, 0.08600514831104403, 0.09901935621866063, 0.11301546261050074, 0.12799984257493635, 0.14396853078901678, 0.16090683487700164, 0.17878849918579315, 0.1975760015097827, 0.21722098469062787, 0.23766476914198745, 0.2588396836155005, 0.28067088151651426, 0.3030774558701746, 0.32597504690341184, 0.3492768670944109, 0.3728962727879491, 0.3967474835283576, 0.4207469128255003, 0.44481399538768, 0.4688717985546553, 0.4928463748979753, 0.516666798187628, 0.5402651633920399, 0.563575651545226, 0.5865343499135498, 0.6090789282958899, 0.6311486390236407, 0.6526838134276388, 0.6736271206708461, 0.6939241072480705, 0.7135228373194858, 0.7323762665094045, 0.7504417383732046, 0.7676829265963262, 0.7840704104606405, 0.7995815309778577, 0.8142027646882999, 0.8279278533952015, 0.8407593866972239, 0.8527075071891257, 0.863790917527908, 0.8740350821004108, 0.8834717234902401, 0.8921382470113979, 0.900076661708841, 0.9073324294257414, 0.9139530261375636, 0.9199880138853606, 0.9254868108435933, 0.9304986913201301, 0.9350709874238432, 0.9392503119306433, 0.9430806880177792, 0.9466029737974689, 0.9498552219833802, 0.952872392157446, 0.9556867823696414, 0.9583267343386529, 0.9608182159843934, 0.9631834546953761, 0.9654433111274868, 0.9676139702723612, 0.9697114732550425, 0.9717478329359892, 0.9737339831762174]\n"
     ]
    }
   ],
   "source": [
    "!python3 ../scripts/test_endpoint_gpu.py -e $endpoint_name"
   ]
  },
  {
   "cell_type": "code",
   "execution_count": null,
   "metadata": {},
   "outputs": [],
   "source": []
  }
 ],
 "metadata": {
  "instance_type": "ml.t3.medium",
  "interpreter": {
   "hash": "aee8b7b246df8f9039afb4144a1f6fd8d2ca17a180786b69acc140d282b71a49"
  },
  "kernelspec": {
   "display_name": "Python 3",
   "language": "python",
   "name": "python3"
  },
  "language_info": {
   "codemirror_mode": {
    "name": "ipython",
    "version": 3
   },
   "file_extension": ".py",
   "mimetype": "text/x-python",
   "name": "python",
   "nbconvert_exporter": "python",
   "pygments_lexer": "ipython3",
   "version": "3.8.5"
  }
 },
 "nbformat": 4,
 "nbformat_minor": 4
}
